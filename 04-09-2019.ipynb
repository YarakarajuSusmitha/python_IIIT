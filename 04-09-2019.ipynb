{
 "cells": [
  {
   "cell_type": "markdown",
   "metadata": {},
   "source": [
    "### Markdown Basics\n",
    "# Heading 1\n",
    "## Heading 2\n",
    "* Normal Text\n",
    "* **Bold**\n",
    "* *Italic*\n",
    "***IB***\n",
    "*Text\n",
    "    - sublist 1\n",
    "    * sublist 2\n",
    "> 1.Ordered List 1\n",
    "> 2. Ordered List 2\n",
    "- [ ] Option 1\n",
    "- [ ] Option 2\n",
    "- [x] Option 3\n",
    "\\* escape\n",
    "  [Link](https://gmail.com)\n",
    "  I have 10 items[Google][1] than from [Yahoo][2]\n",
    "  [1]: http://google.com/ \"Google\"\n",
    "  [2]: http://search.yahoo.com/ \"Yahoo Search\"\n",
    "  `printf(\"Hello Markdown\")`\n",
    "  * <https://google.com>\n",
    "  * [Image](sample.jpg)\n",
    "  <img src=\"sample.jpg\" width=\"60px\" height=\"60px\" style=\"float:left\">\n",
    " "
   ]
  },
  {
   "cell_type": "code",
   "execution_count": null,
   "metadata": {},
   "outputs": [],
   "source": []
  }
 ],
 "metadata": {
  "kernelspec": {
   "display_name": "Python 3",
   "language": "python",
   "name": "python3"
  },
  "language_info": {
   "codemirror_mode": {
    "name": "ipython",
    "version": 3
   },
   "file_extension": ".py",
   "mimetype": "text/x-python",
   "name": "python",
   "nbconvert_exporter": "python",
   "pygments_lexer": "ipython3",
   "version": "3.7.3"
  }
 },
 "nbformat": 4,
 "nbformat_minor": 2
}
