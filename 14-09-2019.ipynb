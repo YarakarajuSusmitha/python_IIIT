{
 "cells": [
  {
   "cell_type": "markdown",
   "metadata": {},
   "source": [
    "## Exam-1(Level-2)"
   ]
  },
  {
   "cell_type": "code",
   "execution_count": 1,
   "metadata": {},
   "outputs": [
    {
     "name": "stdout",
     "output_type": "stream",
     "text": [
      "234\n",
      "4\n",
      "3\n",
      "2\n"
     ]
    }
   ],
   "source": [
    "#1.Take an integer as input and print each digit in reverse order   \n",
    "n=input()\n",
    "rev=n[::-1]\n",
    "for i in rev:\n",
    "    print(i)"
   ]
  },
  {
   "cell_type": "code",
   "execution_count": null,
   "metadata": {},
   "outputs": [
    {
     "name": "stdout",
     "output_type": "stream",
     "text": [
      "5\n",
      "7989206542\n",
      "+91-(798)-920-6542\n",
      "99511692767780\n",
      "+91-(995)-116-92767780\n",
      "+918096316792\n",
      "+91-(809)-631-6792\n",
      "919951169276779980\n",
      "+91-(995)-116-9276779980\n"
     ]
    }
   ],
   "source": [
    "t=int(input())\n",
    "for i in range(t):\n",
    "    l=[int(x) for x in input().split()]\n",
    "    for j in range(len(l)):\n",
    "        temp=str(l[j])\n",
    "        if len(temp)>10:\n",
    "            if temp[0]=='0':\n",
    "                temp=temp[1:]\n",
    "            if temp[0:2]=='91':\n",
    "                temp=temp[2:]\n",
    "        print('+91-('+temp[0:3]+')-'+temp[3:6]+'-'+temp[6:])\n"
   ]
  },
  {
   "cell_type": "code",
   "execution_count": null,
   "metadata": {},
   "outputs": [],
   "source": [
    "#2.Take as much phone numbers as input as no of test cases entered by user.For each number the output should be in the following format as\n",
    "                        # +91-(XXX)-XXX-XXXX\n",
    "#The input may contain any prefix such as 0,91 or may not any prefixes also.\n",
    "t=int(input())\n",
    "for i in range(t):\n",
    "    n=input()\n",
    "    rev=n[-10:]\n",
    "    out='+91'+'-('+rev[:3]+')'+'-'+rev[3:6]+'-'+rev[6:]\n",
    "    print(out)\n"
   ]
  },
  {
   "cell_type": "code",
   "execution_count": 8,
   "metadata": {},
   "outputs": [
    {
     "name": "stdout",
     "output_type": "stream",
     "text": [
      "123 4 100\n",
      "223\n"
     ]
    }
   ],
   "source": [
    "#3.Print sum of all 3 digits numbers in the given list of numbers \n",
    "a=input().split() \n",
    "sum=0\n",
    "for i in a:\n",
    "    if(len(i)==3):\n",
    "        sum+=int(i)\n",
    "print(sum)"
   ]
  },
  {
   "cell_type": "code",
   "execution_count": null,
   "metadata": {},
   "outputs": [],
   "source": [
    "#4.Take a integer and a string as input then print string as many times as the count of the integer without spaces\n"
   ]
  }
 ],
 "metadata": {
  "kernelspec": {
   "display_name": "Python 3",
   "language": "python",
   "name": "python3"
  },
  "language_info": {
   "codemirror_mode": {
    "name": "ipython",
    "version": 3
   },
   "file_extension": ".py",
   "mimetype": "text/x-python",
   "name": "python",
   "nbconvert_exporter": "python",
   "pygments_lexer": "ipython3",
   "version": "3.7.3"
  }
 },
 "nbformat": 4,
 "nbformat_minor": 2
}
