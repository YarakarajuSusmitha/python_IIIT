{
 "cells": [
  {
   "cell_type": "markdown",
   "metadata": {},
   "source": [
    "## Conditional Statements"
   ]
  },
  {
   "cell_type": "code",
   "execution_count": 3,
   "metadata": {},
   "outputs": [
    {
     "data": {
      "text/plain": [
       "'4 conditional Statements\\n   1.If statement\\n   2.If....else Statement\\n   3.If...elif...else Statement\\n   4.Nested if statement'"
      ]
     },
     "execution_count": 3,
     "metadata": {},
     "output_type": "execute_result"
    }
   ],
   "source": [
    "\"\"\"4 conditional Statements\n",
    "   1.If statement\n",
    "   2.If....else Statement\n",
    "   3.If...elif...else Statement\n",
    "   4.Nested if statement\"\"\"\n",
    "\n"
   ]
  },
  {
   "cell_type": "markdown",
   "metadata": {},
   "source": [
    "1.If statements"
   ]
  },
  {
   "cell_type": "code",
   "execution_count": 5,
   "metadata": {},
   "outputs": [
    {
     "name": "stdout",
     "output_type": "stream",
     "text": [
      "enter marks:45\n",
      "You are Fail\n"
     ]
    }
   ],
   "source": [
    "m=int(input(\"enter marks:\"))\n",
    "Pass=50\n",
    "Distinction=90\n",
    "if m>=Distinction:\n",
    "    print(\"You are a distinction\")\n",
    "if m>=Pass and m< Distinction:\n",
    "    print(\"You are pass\")\n",
    "if m<Pass:\n",
    "    print(\"You are Fail\")\n"
   ]
  },
  {
   "cell_type": "markdown",
   "metadata": {},
   "source": [
    "### Practice Program on If statement"
   ]
  },
  {
   "cell_type": "code",
   "execution_count": 7,
   "metadata": {},
   "outputs": [
    {
     "name": "stdout",
     "output_type": "stream",
     "text": [
      "Bad review\n"
     ]
    }
   ],
   "source": [
    "stat1=\"The coffee is bad\"\n",
    "if 'bad' in stat1:\n",
    "    print('Bad review')\n",
    "stat1=\"The coffee is good\"\n",
    "if 'bad' in stat1:\n",
    "    print('Good review')"
   ]
  },
  {
   "cell_type": "markdown",
   "metadata": {},
   "source": [
    "### 2.If...else statements"
   ]
  },
  {
   "cell_type": "code",
   "execution_count": 9,
   "metadata": {},
   "outputs": [
    {
     "name": "stdout",
     "output_type": "stream",
     "text": [
      "enter a number3\n",
      "Odd\n"
     ]
    }
   ],
   "source": [
    "# Even odd program \n",
    "n=int(input(\"enter a number\"))\n",
    "if n%2:\n",
    "    print(\"Odd\")\n",
    "else:\n",
    "    print(\"Even\")"
   ]
  },
  {
   "cell_type": "markdown",
   "metadata": {},
   "source": [
    "## Practice Programs on if...else statements"
   ]
  },
  {
   "cell_type": "code",
   "execution_count": 12,
   "metadata": {},
   "outputs": [
    {
     "name": "stdout",
     "output_type": "stream",
     "text": [
      "enter a number17\n",
      "Odd Number\n",
      "Number is not divisible by 3\n"
     ]
    }
   ],
   "source": [
    "#1. Checking a number if it is even checking whether it is divisible by 4 or not if it is odd check whether it is divisible by 3\n",
    "n=int(input(\"enter a number\"))\n",
    "if n%2:\n",
    "    print(\"Odd Number\")\n",
    "    if n%3:\n",
    "        print(\"Number is not divisible by 3\")\n",
    "    else:\n",
    "        print(\"Number  is divisible by 3\")\n",
    "else:\n",
    "    print(\"Even Number\")\n",
    "    if n%4:\n",
    "        print(\"Number is  not divisible by 4\")\n",
    "    else:\n",
    "        print(\"Number is  divisible by 4\")"
   ]
  },
  {
   "cell_type": "code",
   "execution_count": 14,
   "metadata": {},
   "outputs": [
    {
     "name": "stdout",
     "output_type": "stream",
     "text": [
      "enter a year2014\n",
      "Not a leap year\n"
     ]
    }
   ],
   "source": [
    "#2.Checking a year is a leap or not\n",
    "y=int(input(\"enter a year\"))\n",
    "if y%400==0 or(y%4==0 and y%100!=0):\n",
    "    print(\"Leap year\")\n",
    "else:\n",
    "    print(\"Not a leap year\")"
   ]
  },
  {
   "cell_type": "code",
   "execution_count": 15,
   "metadata": {},
   "outputs": [
    {
     "name": "stdout",
     "output_type": "stream",
     "text": [
      "enter a number123\n",
      "enter lower bound40\n",
      "enter upper bound125\n",
      "Number is in the given range\n"
     ]
    }
   ],
   "source": [
    "#3. check if a number exists in given Range which is of type inclusive\n",
    "n1=int(input(\"enter a number\"))\n",
    "low_bound=int(input(\"enter lower bound\"))\n",
    "up_bound=int(input(\"enter upper bound\"))\n",
    "if n1>=low_bound and n1<=up_bound:\n",
    "    print(\"Number is in the given range\")\n",
    "else:\n",
    "    print(\"Number is not in the given range\")"
   ]
  },
  {
   "cell_type": "code",
   "execution_count": 18,
   "metadata": {},
   "outputs": [
    {
     "name": "stdout",
     "output_type": "stream",
     "text": [
      "enter a number121\n",
      "Given number is not a multiple of 10\n"
     ]
    }
   ],
   "source": [
    "#4.Check if a number is a multiple of 10\n",
    "n=int(input(\"enter a number\"))\n",
    "if n%10:\n",
    "    print(\"Given number is not a multiple of 10\")\n",
    "else:\n",
    "    print(\"Given number is a multiple of 10\")"
   ]
  },
  {
   "cell_type": "code",
   "execution_count": 19,
   "metadata": {},
   "outputs": [
    {
     "name": "stdout",
     "output_type": "stream",
     "text": [
      "enter a number2\n",
      "Given number is a factor of 100\n"
     ]
    }
   ],
   "source": [
    "#5.check if a number is factor of 100 \n",
    "n=int(input(\"enter a number\"))\n",
    "if 100%n:\n",
    "    print(\"Given number is not a factor of 100\")\n",
    "else:\n",
    "    print(\"Given number is a factor of 100\")"
   ]
  },
  {
   "cell_type": "code",
   "execution_count": 23,
   "metadata": {},
   "outputs": [
    {
     "name": "stdout",
     "output_type": "stream",
     "text": [
      "enter a number12\n",
      "enter a string12\n",
      "Both are equal\n"
     ]
    }
   ],
   "source": [
    "#6.Check if given string is equal to a number\n",
    "\"\"\"number=123\n",
    "st=\"123\"\n",
    "if st==str(number):\n",
    "    print(\"String is equal to number\")\n",
    "else:\n",
    "    print(\"String is not equal to number\")\"\"\"\n",
    "num=input(\"enter a number\")\n",
    "st=input(\"enter a string\")\n",
    "if num==st:\n",
    "    print(\"Both are equal\")\n",
    "else:\n",
    "    print(\"Not equals\")"
   ]
  },
  {
   "cell_type": "code",
   "execution_count": 24,
   "metadata": {},
   "outputs": [
    {
     "name": "stdout",
     "output_type": "stream",
     "text": [
      "enter a year2016\n",
      "0.0316224\n"
     ]
    }
   ],
   "source": [
    "#7.Calculate the number of nano seconds in a given year(Consider leap year logic)\n",
    "y=int(input(\"enter a year\"))\n",
    "if y%400==0 or(y%4==0 and y%100!=0):\n",
    "    print(366*24*60*60*(10**(-9)))\n",
    "else:\n",
    "    print(365*24*60*60*(10**(-9)))\n"
   ]
  },
  {
   "cell_type": "markdown",
   "metadata": {},
   "source": [
    "### 3.if..elif..else Statements"
   ]
  },
  {
   "cell_type": "code",
   "execution_count": 1,
   "metadata": {},
   "outputs": [
    {
     "name": "stdout",
     "output_type": "stream",
     "text": [
      "enter a number112\n",
      "enter a number23\n",
      "enter a number 334\n",
      "34  is the greatest number\n",
      "34  is the greatest number\n"
     ]
    }
   ],
   "source": [
    "#Find greatest of 3numbers\n",
    "n=int(input(\"enter a number1\"))\n",
    "n1=int(input(\"enter a number2\"))\n",
    "n2=int(input(\"enter a number 3\"))\n",
    "if n>n1 and n>n2:\n",
    "    print(n,\"is the greatest number\")\n",
    "elif n1>n and n1>n2:\n",
    "     print(n1, \"is the greatest number\")\n",
    "else:\n",
    "    print(n2,\" is the greatest number\")"
   ]
  },
  {
   "cell_type": "code",
   "execution_count": 1,
   "metadata": {},
   "outputs": [
    {
     "name": "stdout",
     "output_type": "stream",
     "text": [
      "enter marks85\n",
      "First class\n",
      "First class\n"
     ]
    }
   ],
   "source": [
    "#Grade calculation based on marks 90-\n",
    "marks=int(input(\"enter marks\"))\n",
    "if marks>=90 and marks <100:\n",
    "    print(\"Distinction\")\n",
    "elif 80<= marks<90:\n",
    "    print(\"First class\")\n",
    "elif marks>=70 and marks<50:\n",
    "    print(\"Second class\")\n",
    "else:\n",
    "    print(\"Fail\")"
   ]
  },
  {
   "cell_type": "markdown",
   "metadata": {},
   "source": [
    "## 4.Nested if Statement"
   ]
  },
  {
   "cell_type": "code",
   "execution_count": 2,
   "metadata": {},
   "outputs": [
    {
     "name": "stdout",
     "output_type": "stream",
     "text": [
      "enter a number3\n",
      "Given is a positive number\n",
      "Given is a positive number\n"
     ]
    }
   ],
   "source": [
    "#Check the given user defined number is positive or negative or zero\n",
    "n=int(input(\"enter a number\"))\n",
    "if n>=0:\n",
    "    if n==0:\n",
    "        print(\"Given number is Zero\")\n",
    "    else:\n",
    "        print(\"Given is a positive number\")\n",
    "else:\n",
    "    print(\"Given is a negative number\")"
   ]
  },
  {
   "cell_type": "markdown",
   "metadata": {},
   "source": [
    "# Tasks"
   ]
  },
  {
   "cell_type": "code",
   "execution_count": 2,
   "metadata": {},
   "outputs": [
    {
     "name": "stdout",
     "output_type": "stream",
     "text": [
      "enter a year2020\n",
      "Leap year\n"
     ]
    }
   ],
   "source": [
    "#check whether given year is leap year or not\n",
    "y=int(input(\"enter a year\"))\n",
    "if y%400==0 or(y%4==0 and y%100!=0):\n",
    "    print(\"Leap year\")\n",
    "else:\n",
    "    print(\"Not a leap year\")\n"
   ]
  },
  {
   "cell_type": "code",
   "execution_count": 3,
   "metadata": {},
   "outputs": [
    {
     "name": "stdout",
     "output_type": "stream",
     "text": [
      "enter a number123\n",
      "enter lower bound40\n",
      "enter upper bound150\n",
      "Given number is in the given range\n"
     ]
    }
   ],
   "source": [
    "# check if the number exists in the given range \n",
    "n=int(input(\"enter a number\"))\n",
    "low_bound=int(input(\"enter lower bound\"))\n",
    "up_bound=int(input(\"enter upper bound\"))\n",
    "if low_bound<=n<=up_bound:\n",
    "    print(\"Given number is in the given range\")\n",
    "else:\n",
    "    print(\"Number is not in the given range\")"
   ]
  },
  {
   "cell_type": "code",
   "execution_count": 7,
   "metadata": {},
   "outputs": [
    {
     "name": "stdout",
     "output_type": "stream",
     "text": [
      "enter a number12\n",
      "2\n",
      "2\n"
     ]
    }
   ],
   "source": [
    "# Check the number of digits in a given number\n",
    "n=int(input(\"enter a number\"))\n",
    "count=0\n",
    "while n>0:\n",
    "    count=count+1\n",
    "    n=int(n/10)\n",
    "print(count)"
   ]
  },
  {
   "cell_type": "code",
   "execution_count": 5,
   "metadata": {},
   "outputs": [
    {
     "name": "stdout",
     "output_type": "stream",
     "text": [
      "enter a number5\n",
      "Given number is a factor of 1000\n"
     ]
    }
   ],
   "source": [
    "#Check if the given number is a fcator of 1000\n",
    "n=int(input(\"enter a number\"))\n",
    "if 1000%n:\n",
    "    print(\"Given number is not a factor of 1000\")\n",
    "else:\n",
    "    print(\"Given number is a factor of 1000\")"
   ]
  },
  {
   "cell_type": "code",
   "execution_count": 11,
   "metadata": {},
   "outputs": [
    {
     "name": "stdout",
     "output_type": "stream",
     "text": [
      "enter a number25\n",
      "5\n",
      "5\n"
     ]
    }
   ],
   "source": [
    "#calculate square root of a given number\n",
    "n=int(input(\"enter a number\"))\n",
    "print(int(pow(n,0.5)))"
   ]
  },
  {
   "cell_type": "markdown",
   "metadata": {},
   "source": [
    "## Iterations or Loops"
   ]
  },
  {
   "cell_type": "markdown",
   "metadata": {},
   "source": [
    "## 1.For Loop"
   ]
  },
  {
   "cell_type": "code",
   "execution_count": 1,
   "metadata": {},
   "outputs": [
    {
     "name": "stdout",
     "output_type": "stream",
     "text": [
      "0\n",
      "1\n",
      "2\n",
      "3\n",
      "4\n"
     ]
    }
   ],
   "source": [
    "\n",
    "for i in range(5):\n",
    "    print(i)"
   ]
  },
  {
   "cell_type": "code",
   "execution_count": 2,
   "metadata": {},
   "outputs": [
    {
     "name": "stdout",
     "output_type": "stream",
     "text": [
      "h e l l o "
     ]
    }
   ],
   "source": [
    "s='hello'\n",
    "for i in s:\n",
    "    print(i,end=\" \")"
   ]
  },
  {
   "cell_type": "code",
   "execution_count": 4,
   "metadata": {},
   "outputs": [
    {
     "name": "stdout",
     "output_type": "stream",
     "text": [
      "h,e,l,l,o,"
     ]
    }
   ],
   "source": [
    "#Print Hello in single line separated by ,\n",
    "for i in s:\n",
    "     print(i,end=',')"
   ]
  },
  {
   "cell_type": "code",
   "execution_count": 9,
   "metadata": {},
   "outputs": [
    {
     "name": "stdout",
     "output_type": "stream",
     "text": [
      "2 4 6 8 10 "
     ]
    }
   ],
   "source": [
    "#even numbers in a given range\n",
    "for i in range(1,11):\n",
    "    if i%2:\n",
    "        continue\n",
    "    else:\n",
    "         print(i,end=\" \")"
   ]
  },
  {
   "cell_type": "code",
   "execution_count": 11,
   "metadata": {},
   "outputs": [
    {
     "name": "stdout",
     "output_type": "stream",
     "text": [
      "2 4 6 8 10 "
     ]
    }
   ],
   "source": [
    "#even or alternative numbers in a given range\n",
    "for i in range(2,11,2):\n",
    "    print(i,end=' ')"
   ]
  },
  {
   "cell_type": "code",
   "execution_count": 12,
   "metadata": {},
   "outputs": [
    {
     "name": "stdout",
     "output_type": "stream",
     "text": [
      "1 11 21 31 41 51 61 71 81 91 "
     ]
    }
   ],
   "source": [
    "#random numbers in a given range difference must be 10\n",
    "for i in range(1,100,10):\n",
    "    print(i,end=' ')"
   ]
  },
  {
   "cell_type": "code",
   "execution_count": 13,
   "metadata": {},
   "outputs": [
    {
     "name": "stdout",
     "output_type": "stream",
     "text": [
      "50 45 40 35 30 25 20 15 10 5 "
     ]
    }
   ],
   "source": [
    "#random numbers in decreasing order in a given range difference is of 5\n",
    "for i in range(50,1,-5):\n",
    "    print(i,end=' ')\n",
    "    "
   ]
  },
  {
   "cell_type": "markdown",
   "metadata": {},
   "source": [
    "## 2.while loop"
   ]
  },
  {
   "cell_type": "code",
   "execution_count": 1,
   "metadata": {},
   "outputs": [
    {
     "name": "stdout",
     "output_type": "stream",
     "text": [
      "h\n",
      "e\n",
      "l\n",
      "l\n",
      "o\n"
     ]
    }
   ],
   "source": [
    "s='hello'\n",
    "i=0\n",
    "while i in range(len(s)):\n",
    "    print(s[i])\n",
    "    i+=1"
   ]
  },
  {
   "cell_type": "markdown",
   "metadata": {},
   "source": [
    "## Tasks"
   ]
  },
  {
   "cell_type": "markdown",
   "metadata": {},
   "source": [
    "For loop"
   ]
  },
  {
   "cell_type": "code",
   "execution_count": 4,
   "metadata": {},
   "outputs": [
    {
     "name": "stdout",
     "output_type": "stream",
     "text": [
      "1\n",
      "2\n",
      "3\n",
      "Fizz\n",
      "4\n",
      "5\n",
      "Buzz\n",
      "6\n",
      "Fizz\n",
      "7\n",
      "8\n",
      "9\n",
      "Fizz\n",
      "10\n",
      "Buzz\n",
      "11\n",
      "12\n",
      "Fizz\n",
      "13\n",
      "14\n",
      "15\n",
      "Fizz\n",
      "Buzz\n",
      "FizzBuzz\n",
      "16\n",
      "17\n",
      "18\n",
      "Fizz\n",
      "19\n",
      "20\n",
      "Buzz\n",
      "21\n",
      "Fizz\n",
      "22\n",
      "23\n",
      "24\n",
      "Fizz\n",
      "25\n",
      "Buzz\n",
      "26\n",
      "27\n",
      "Fizz\n",
      "28\n",
      "29\n",
      "30\n",
      "Fizz\n",
      "Buzz\n",
      "FizzBuzz\n",
      "31\n",
      "32\n",
      "33\n",
      "Fizz\n",
      "34\n",
      "35\n",
      "Buzz\n",
      "36\n",
      "Fizz\n",
      "37\n",
      "38\n",
      "39\n",
      "Fizz\n",
      "40\n",
      "Buzz\n",
      "41\n",
      "42\n",
      "Fizz\n",
      "43\n",
      "44\n",
      "45\n",
      "Fizz\n",
      "Buzz\n",
      "FizzBuzz\n",
      "46\n",
      "47\n",
      "48\n",
      "Fizz\n",
      "49\n",
      "50\n",
      "Buzz\n"
     ]
    }
   ],
   "source": [
    "#1.Iterate the integers from 1 to 50, \n",
    "#for multiples of 3 print “Fizz” and \n",
    "#for multiples of 5 print “Buzz” and \n",
    "#for multiples of both 3 and 5 print “FizzBuzz”.\n",
    "for i in range(1,51):\n",
    "    print(i)\n",
    "    if i%3==0:\n",
    "        print(\"Fizz\")\n",
    "    if i%5==0:\n",
    "        print(\"Buzz\")\n",
    "    if i%5==0 and i%3==0:\n",
    "        print(\"FizzBuzz\")"
   ]
  },
  {
   "cell_type": "code",
   "execution_count": 5,
   "metadata": {},
   "outputs": [
    {
     "name": "stdout",
     "output_type": "stream",
     "text": [
      "enter a number3\n",
      "3 x 10 = 30\n",
      "3 x 11 = 33\n",
      "3 x 12 = 36\n",
      "3 x 13 = 39\n",
      "3 x 14 = 42\n",
      "3 x 15 = 45\n",
      "3 x 16 = 48\n",
      "3 x 17 = 51\n",
      "3 x 18 = 54\n",
      "3 x 19 = 57\n",
      "3 x 20 = 60\n"
     ]
    }
   ],
   "source": [
    "#2.Program to print the multiplication table from range between 10 to 20 (Ex: 3 x 10 = 30….)\n",
    "n=int(input(\"enter a number\"))\n",
    "for i in range(10,21):\n",
    "    print(n,\"x\",i,\"=\",n*i)\n",
    "    "
   ]
  },
  {
   "cell_type": "markdown",
   "metadata": {},
   "source": [
    "2. while loop"
   ]
  },
  {
   "cell_type": "code",
   "execution_count": 7,
   "metadata": {},
   "outputs": [
    {
     "name": "stdout",
     "output_type": "stream",
     "text": [
      "enter a number5\n",
      "1 2 3 4 5 "
     ]
    }
   ],
   "source": [
    "#1. Print n Natural Numbers using while loop\n",
    "n=int(input(\"enter a number\"))\n",
    "i=1\n",
    "while i in range(n+1):\n",
    "    print(i,end=\" \")\n",
    "    i+=1\n"
   ]
  },
  {
   "cell_type": "code",
   "execution_count": 2,
   "metadata": {},
   "outputs": [
    {
     "name": "stdout",
     "output_type": "stream",
     "text": [
      "4\n",
      "2\n",
      "0\n",
      "1\n"
     ]
    }
   ],
   "source": [
    "#2.Program print n number of iterations using while loop with if statement.\n",
    "#Example : a=1,b=1 two variables b==4 loop terminated\n",
    "n=int(input())\n",
    "b=int(input())\n",
    "for i in range(n):\n",
    "    if i==b:\n",
    "        break;\n",
    "    print(i)\n",
    "\n"
   ]
  },
  {
   "cell_type": "markdown",
   "metadata": {},
   "source": [
    "## Problem Set"
   ]
  },
  {
   "cell_type": "code",
   "execution_count": 13,
   "metadata": {},
   "outputs": [
    {
     "name": "stdout",
     "output_type": "stream",
     "text": [
      "enter a number3\n",
      "3 2 1 "
     ]
    }
   ],
   "source": [
    "#1.Function to print reverse of given range in the same line\n",
    "def rev(n):\n",
    "        i=n\n",
    "        while i: \n",
    "            print(i,end=\" \")\n",
    "            i-=1\n",
    "    \n",
    "rev(int(input(\"enter a number\")))"
   ]
  },
  {
   "cell_type": "code",
   "execution_count": 19,
   "metadata": {},
   "outputs": [
    {
     "name": "stdout",
     "output_type": "stream",
     "text": [
      "enter a number4\n",
      "3 1 "
     ]
    }
   ],
   "source": [
    "#2.Function to print the odd numbers in reverse order\n",
    "def re(n):\n",
    "    if n%2:\n",
    "        for i in range(n,0,-2):\n",
    "            print(i,end=\" \")\n",
    "    else:\n",
    "        for i in range(n-1,0,-2):\n",
    "             print(i,end=\" \")\n",
    "re(int(input(\"enter a number\")))\n",
    "        "
   ]
  },
  {
   "cell_type": "code",
   "execution_count": 20,
   "metadata": {},
   "outputs": [
    {
     "name": "stdout",
     "output_type": "stream",
     "text": [
      "enter a number4\n"
     ]
    },
    {
     "data": {
      "text/plain": [
       "10"
      ]
     },
     "execution_count": 20,
     "metadata": {},
     "output_type": "execute_result"
    }
   ],
   "source": [
    "#3.Function to calculate the sum of numbers in a range\n",
    "def sum_range(n):\n",
    "        s=0\n",
    "        for i in range(1,n+1):\n",
    "            s=s+i\n",
    "        return s\n",
    "sum_range(int(input(\"enter a number\")))\n",
    "    "
   ]
  },
  {
   "cell_type": "code",
   "execution_count": 21,
   "metadata": {},
   "outputs": [
    {
     "name": "stdout",
     "output_type": "stream",
     "text": [
      "enter lower bound1\n",
      "enter upper bound5\n"
     ]
    },
    {
     "data": {
      "text/plain": [
       "3"
      ]
     },
     "execution_count": 21,
     "metadata": {},
     "output_type": "execute_result"
    }
   ],
   "source": [
    "#4.Function to calculate the average of a given range (1,5) -> 3\n",
    "def av_ran(l,u):\n",
    "    s=0\n",
    "    c=0\n",
    "    for i in range(l,u+1):\n",
    "        s+=i\n",
    "        c+=1\n",
    "    return int(s/c)\n",
    "av_ran(int(input(\"enter lower bound\")),int(input(\"enter upper bound\")))"
   ]
  },
  {
   "cell_type": "code",
   "execution_count": 1,
   "metadata": {},
   "outputs": [
    {
     "name": "stdout",
     "output_type": "stream",
     "text": [
      "enter a number12\n"
     ]
    },
    {
     "data": {
      "text/plain": [
       "28"
      ]
     },
     "execution_count": 1,
     "metadata": {},
     "output_type": "execute_result"
    }
   ],
   "source": [
    "#5.Function to generate the sum of factors for a given number 12 -> 1 2 3 4 6 12\n",
    "def sum_fact(n):\n",
    "    sum=0\n",
    "    for i in range(1,n+1):\n",
    "        if n%i==0:\n",
    "            sum+=i\n",
    "    return sum\n",
    "sum_fact(int(input(\"enter a number\")))"
   ]
  },
  {
   "cell_type": "code",
   "execution_count": 5,
   "metadata": {},
   "outputs": [
    {
     "name": "stdout",
     "output_type": "stream",
     "text": [
      "enter a number5\n"
     ]
    },
    {
     "data": {
      "text/plain": [
       "True"
      ]
     },
     "execution_count": 5,
     "metadata": {},
     "output_type": "execute_result"
    }
   ],
   "source": [
    "#6.Function to check if a given number is Prime\n",
    "def prim_Check(n):\n",
    "    count=0\n",
    "    for i in range(2,n+1):\n",
    "        if n%i==0:\n",
    "            count+=1\n",
    "        if count>1:\n",
    "             break\n",
    "    if count==1:\n",
    "         return True\n",
    "    else:\n",
    "        return False\n",
    "prim_Check(int(input(\"enter a number\")))"
   ]
  },
  {
   "cell_type": "code",
   "execution_count": 8,
   "metadata": {},
   "outputs": [
    {
     "name": "stdout",
     "output_type": "stream",
     "text": [
      "enter a number5\n"
     ]
    },
    {
     "data": {
      "text/plain": [
       "3"
      ]
     },
     "execution_count": 8,
     "metadata": {},
     "output_type": "execute_result"
    }
   ],
   "source": [
    "#7.Function to calculate the average of first N Prime numbers\n",
    "def prim_Check(n):\n",
    "    count=0\n",
    "    for i in range(2,n+1):\n",
    "        if n%i==0:\n",
    "            count+=1\n",
    "        if count>1:\n",
    "             break\n",
    "    if count==1:\n",
    "         return True\n",
    "    else:\n",
    "        return False\n",
    "def av_Prim(n1):\n",
    "    sum=0 \n",
    "    num=0\n",
    "    for i in range(1,n1+1):\n",
    "        if prim_Check(i):\n",
    "            sum+=i\n",
    "            num+=1\n",
    "    return int(sum/num)\n",
    "av_Prim(int(input(\"enter a number\")))\n",
    "        \n",
    "\n"
   ]
  },
  {
   "cell_type": "code",
   "execution_count": 9,
   "metadata": {},
   "outputs": [
    {
     "name": "stdout",
     "output_type": "stream",
     "text": [
      "enter a number1\n",
      "enter a number6\n",
      "6\n"
     ]
    }
   ],
   "source": [
    "#8.Function to generate all Perfect numbers in a given range\n",
    "#Perfect Number - Sum of all its factors is equal to the number itself\n",
    "def sum_fact(n):\n",
    "    sum=0\n",
    "    for i in range(1,n):\n",
    "        if n%i==0:\n",
    "            sum+=i\n",
    "    return sum\n",
    "def perfect_check(lb,ub):\n",
    "    for i in range(lb,ub+1):\n",
    "        if i==sum_fact(i):\n",
    "            print(i)\n",
    "perfect_check(int(input(\"enter a number\")),int(input(\"enter a number\")))\n"
   ]
  },
  {
   "cell_type": "code",
   "execution_count": null,
   "metadata": {},
   "outputs": [],
   "source": []
  }
 ],
 "metadata": {
  "kernelspec": {
   "display_name": "Python 3",
   "language": "python",
   "name": "python3"
  },
  "language_info": {
   "codemirror_mode": {
    "name": "ipython",
    "version": 3
   },
   "file_extension": ".py",
   "mimetype": "text/x-python",
   "name": "python",
   "nbconvert_exporter": "python",
   "pygments_lexer": "ipython3",
   "version": "3.7.3"
  }
 },
 "nbformat": 4,
 "nbformat_minor": 2
}
