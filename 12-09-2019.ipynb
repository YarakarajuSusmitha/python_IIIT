{
 "cells": [
  {
   "cell_type": "markdown",
   "metadata": {},
   "source": [
    "## Dictionaries"
   ]
  },
  {
   "cell_type": "code",
   "execution_count": 2,
   "metadata": {},
   "outputs": [
    {
     "data": {
      "text/plain": [
       "300"
      ]
     },
     "execution_count": 2,
     "metadata": {},
     "output_type": "execute_result"
    }
   ],
   "source": [
    "dict_1={}\n",
    "dict_1={'key1':'valu1','key2':'valu2'}\n",
    "dict_2={1:100,2:200,3:300}\n",
    "dict_1['key1']\n",
    "dict_2[3]"
   ]
  },
  {
   "cell_type": "markdown",
   "metadata": {},
   "source": [
    "## Dictionary methods"
   ]
  },
  {
   "cell_type": "markdown",
   "metadata": {},
   "source": [
    "### 1. get()----  To get values by keywords"
   ]
  },
  {
   "cell_type": "code",
   "execution_count": 4,
   "metadata": {},
   "outputs": [
    {
     "data": {
      "text/plain": [
       "200"
      ]
     },
     "execution_count": 4,
     "metadata": {},
     "output_type": "execute_result"
    }
   ],
   "source": [
    "dict_1={'key1':'valu1','key2':'valu2'}\n",
    "dict_2={1:100,2:200,3:300}\n",
    "dict_1.get('key1')\n",
    "dict_2.get(2)"
   ]
  },
  {
   "cell_type": "markdown",
   "metadata": {},
   "source": [
    "### 2. keys() ---To get keys in the dictionary"
   ]
  },
  {
   "cell_type": "code",
   "execution_count": 5,
   "metadata": {},
   "outputs": [
    {
     "data": {
      "text/plain": [
       "dict_keys(['key1', 'key2'])"
      ]
     },
     "execution_count": 5,
     "metadata": {},
     "output_type": "execute_result"
    }
   ],
   "source": [
    "dict_1.keys()"
   ]
  },
  {
   "cell_type": "markdown",
   "metadata": {},
   "source": [
    "### 3. values() --- To get values in the dictionary"
   ]
  },
  {
   "cell_type": "code",
   "execution_count": 6,
   "metadata": {},
   "outputs": [
    {
     "data": {
      "text/plain": [
       "dict_values(['valu1', 'valu2'])"
      ]
     },
     "execution_count": 6,
     "metadata": {},
     "output_type": "execute_result"
    }
   ],
   "source": [
    "dict_1.values()"
   ]
  },
  {
   "cell_type": "markdown",
   "metadata": {},
   "source": [
    "### 4.items()---To get both keys and values respectively in the dictionary"
   ]
  },
  {
   "cell_type": "code",
   "execution_count": 7,
   "metadata": {},
   "outputs": [
    {
     "data": {
      "text/plain": [
       "dict_items([(1, 100), (2, 200), (3, 300)])"
      ]
     },
     "execution_count": 7,
     "metadata": {},
     "output_type": "execute_result"
    }
   ],
   "source": [
    "http://localhost:8888/notebooks/Desktop/python_IIIT/12-09-2019.ipynb#6.setdefault()---doesnot-allows-modification-to-updatedict_2.items()"
   ]
  },
  {
   "cell_type": "markdown",
   "metadata": {},
   "source": [
    "### 5. update()---To update the existing dictionary"
   ]
  },
  {
   "cell_type": "code",
   "execution_count": 9,
   "metadata": {},
   "outputs": [
    {
     "data": {
      "text/plain": [
       "{'name': 'Sita',\n",
       " 'id': 'N140001',\n",
       " 'branch': 'cse',\n",
       " 'year': 'E4',\n",
       " 'age': 20,\n",
       " 'contact': 7878909878}"
      ]
     },
     "execution_count": 9,
     "metadata": {},
     "output_type": "execute_result"
    }
   ],
   "source": [
    "student={'name':'Sita','id':'N140001','branch':'cse','year':'E4','age':13}\n",
    "student.update({'age':20})\n",
    "student.update({'contact':7878909878})\n",
    "student"
   ]
  },
  {
   "cell_type": "markdown",
   "metadata": {},
   "source": [
    "## 6.setdefault()---doesnot allows modification to update"
   ]
  },
  {
   "cell_type": "code",
   "execution_count": 12,
   "metadata": {},
   "outputs": [
    {
     "data": {
      "text/plain": [
       "20"
      ]
     },
     "execution_count": 12,
     "metadata": {},
     "output_type": "execute_result"
    }
   ],
   "source": [
    "student.setdefault('age',10)"
   ]
  },
  {
   "cell_type": "markdown",
   "metadata": {},
   "source": [
    "### 7.copy()--- to duplicate dictionary"
   ]
  },
  {
   "cell_type": "code",
   "execution_count": 13,
   "metadata": {},
   "outputs": [
    {
     "data": {
      "text/plain": [
       "{'name': 'Sita',\n",
       " 'id': 'N140001',\n",
       " 'branch': 'cse',\n",
       " 'year': 'E4',\n",
       " 'age': 20,\n",
       " 'contact': 7878909878}"
      ]
     },
     "execution_count": 13,
     "metadata": {},
     "output_type": "execute_result"
    }
   ],
   "source": [
    "stud=student.copy()\n",
    "stud"
   ]
  },
  {
   "cell_type": "markdown",
   "metadata": {},
   "source": [
    "## 8.popitem()---delete items from last of the dictionary"
   ]
  },
  {
   "cell_type": "code",
   "execution_count": 14,
   "metadata": {},
   "outputs": [
    {
     "data": {
      "text/plain": [
       "{1: 'a', 2: 'b'}"
      ]
     },
     "execution_count": 14,
     "metadata": {},
     "output_type": "execute_result"
    }
   ],
   "source": [
    "d={1:'a',2:'b',3:'c'}\n",
    "d.popitem()\n",
    "d"
   ]
  },
  {
   "cell_type": "markdown",
   "metadata": {},
   "source": [
    "### 9. pop()---to delete particular item in the dictionary"
   ]
  },
  {
   "cell_type": "code",
   "execution_count": 15,
   "metadata": {},
   "outputs": [
    {
     "data": {
      "text/plain": [
       "{2: 'b'}"
      ]
     },
     "execution_count": 15,
     "metadata": {},
     "output_type": "execute_result"
    }
   ],
   "source": [
    "d.pop(1)\n",
    "d"
   ]
  },
  {
   "cell_type": "markdown",
   "metadata": {},
   "source": [
    "### 10.clear()---to clear entire dictionary"
   ]
  },
  {
   "cell_type": "code",
   "execution_count": 16,
   "metadata": {},
   "outputs": [
    {
     "data": {
      "text/plain": [
       "{}"
      ]
     },
     "execution_count": 16,
     "metadata": {},
     "output_type": "execute_result"
    }
   ],
   "source": [
    "d.clear()\n",
    "d"
   ]
  },
  {
   "cell_type": "code",
   "execution_count": 17,
   "metadata": {},
   "outputs": [
    {
     "data": {
      "text/plain": [
       "['__class__',\n",
       " '__contains__',\n",
       " '__delattr__',\n",
       " '__delitem__',\n",
       " '__dir__',\n",
       " '__doc__',\n",
       " '__eq__',\n",
       " '__format__',\n",
       " '__ge__',\n",
       " '__getattribute__',\n",
       " '__getitem__',\n",
       " '__gt__',\n",
       " '__hash__',\n",
       " '__init__',\n",
       " '__init_subclass__',\n",
       " '__iter__',\n",
       " '__le__',\n",
       " '__len__',\n",
       " '__lt__',\n",
       " '__ne__',\n",
       " '__new__',\n",
       " '__reduce__',\n",
       " '__reduce_ex__',\n",
       " '__repr__',\n",
       " '__setattr__',\n",
       " '__setitem__',\n",
       " '__sizeof__',\n",
       " '__str__',\n",
       " '__subclasshook__',\n",
       " 'clear',\n",
       " 'copy',\n",
       " 'fromkeys',\n",
       " 'get',\n",
       " 'items',\n",
       " 'keys',\n",
       " 'pop',\n",
       " 'popitem',\n",
       " 'setdefault',\n",
       " 'update',\n",
       " 'values']"
      ]
     },
     "execution_count": 17,
     "metadata": {},
     "output_type": "execute_result"
    }
   ],
   "source": [
    "d={}\n",
    "dir(d)"
   ]
  },
  {
   "cell_type": "code",
   "execution_count": 20,
   "metadata": {},
   "outputs": [
    {
     "data": {
      "text/plain": [
       "{'first_name': 'Hari', 'last_name': 'Vandana', 'id': 100, 'code': 75}"
      ]
     },
     "execution_count": 20,
     "metadata": {},
     "output_type": "execute_result"
    }
   ],
   "source": [
    "#Adding a dictionary to another dictionary\n",
    "\n",
    "d1={'first_name':'Hari','last_name':'Vandana'}\n",
    "d2={'id':100,'code':75}\n",
    "d1.update(d2)\n",
    "d1\n",
    "\n",
    "\n"
   ]
  },
  {
   "cell_type": "code",
   "execution_count": 32,
   "metadata": {},
   "outputs": [
    {
     "ename": "IndentationError",
     "evalue": "unexpected indent (<ipython-input-32-797cd40e8ff5>, line 8)",
     "output_type": "error",
     "traceback": [
      "\u001b[1;36m  File \u001b[1;32m\"<ipython-input-32-797cd40e8ff5>\"\u001b[1;36m, line \u001b[1;32m8\u001b[0m\n\u001b[1;33m    d5.update(d1)\u001b[0m\n\u001b[1;37m    ^\u001b[0m\n\u001b[1;31mIndentationError\u001b[0m\u001b[1;31m:\u001b[0m unexpected indent\n"
     ]
    }
   ],
   "source": [
    "#Adding more dictionaries \n",
    "d1={'first_name':'Hari','last_name':'Vandana'}\n",
    "d2={'id':100,'code':75}\n",
    "d3={'branch1':'cse','branch2':'ece','branch3':'mme','branch4':'chem'}\n",
    "d4={'e1':2016,'e2':2015,'e3':2014}\n",
    "d5={}\n",
    "for i in range(len(d1.keys())+len(d2.keys())+len(d3.keys())+len(d4.keys())):\n",
    "    d5.update(d1)\n",
    "    d5.update(d2)\n",
    "    d.5.update(d3)\n",
    "    d5.update(d4)\n",
    "\n",
    "d5\n",
    "\n"
   ]
  },
  {
   "cell_type": "code",
   "execution_count": 42,
   "metadata": {},
   "outputs": [
    {
     "name": "stdout",
     "output_type": "stream",
     "text": [
      "{'first_name': 'Hari', 'last_name': 'Vandana', 'id': 100, 'code': 75, 'branch1': 'cse', 'branch2': 'ece', 'branch3': 'mme', 'branch4': 'chem', 'e1': 2016, 'e2': 2015, 'e3': 2014}\n"
     ]
    }
   ],
   "source": [
    "for key in d1,d2,d3,d4:\n",
    "    d5.update(key)\n",
    "print(d5)"
   ]
  },
  {
   "cell_type": "markdown",
   "metadata": {},
   "source": [
    "## Python program to build a contacts application"
   ]
  },
  {
   "cell_type": "code",
   "execution_count": 4,
   "metadata": {},
   "outputs": [
    {
     "name": "stdout",
     "output_type": "stream",
     "text": [
      "enter nameLavanya\n",
      "enter mobile number7867564567\n",
      "Contact is Added\n",
      "Contact is Added\n",
      "{'Lavanya': 7867564567, 'bhavani': 63057890099}\n"
     ]
    }
   ],
   "source": [
    "contacts={}\n",
    "def addcontact(name,no):\n",
    "    if name not in contacts:\n",
    "        contacts[name]=no\n",
    "        print(\"Contact is Added\")\n",
    "    else:\n",
    "        print(\"Contact Already existed\")\n",
    "addcontact(input(\"enter name\"),int(input(\"enter mobile number\")))\n",
    "#addcontact('bhavani',63057890099)\n",
    "print(contacts)"
   ]
  },
  {
   "cell_type": "code",
   "execution_count": 36,
   "metadata": {},
   "outputs": [
    {
     "name": "stdout",
     "output_type": "stream",
     "text": [
      "enter a nameLavanya\n",
      "Contact exists with this name\n"
     ]
    }
   ],
   "source": [
    "#searching in contact\n",
    "def search_contact(name):\n",
    "    if name in contacts:\n",
    "        print(\"Contact exists with this name\")\n",
    "    else:\n",
    "        print(\"No contact with this name\")\n",
    "search_contact(input(\"enter a name\"))"
   ]
  },
  {
   "cell_type": "code",
   "execution_count": 8,
   "metadata": {},
   "outputs": [
    {
     "name": "stdout",
     "output_type": "stream",
     "text": [
      "contact update successfully\n",
      "{'Lavanya': 78453424566, 'bhavani': 63057890099, 'name': 7867876756}\n"
     ]
    }
   ],
   "source": [
    "#updating contacts\n",
    "def update_contact(name,no):\n",
    "    if name in contacts:\n",
    "        contacts.update({name:no})\n",
    "        print(\"contact update successfully\")\n",
    "    else:\n",
    "        print(\"No contact with that\")\n",
    "update_contact(\"Lavanya\",78453424566)\n",
    "print(contacts)\n",
    "        \n",
    "    "
   ]
  },
  {
   "cell_type": "code",
   "execution_count": 41,
   "metadata": {},
   "outputs": [
    {
     "name": "stdout",
     "output_type": "stream",
     "text": [
      "1:['hi', 'hlo']\n",
      "2:['hai', 'hello']\n",
      "3:['bye', 'see you']\n"
     ]
    }
   ],
   "source": [
    "#students={1:['hi','hlo'],2:['hai','hello'],3:['bye','see you']} print output as\n",
    "#1:['hi','hlo']\n",
    "#2:['hai','hello']\n",
    "#3:['bye','see you']\n",
    "students={1:['hi','hlo'],2:['hai','hello'],3:['bye','see you']}\n",
    "\"\"\" \n",
    "for key,value in students.items():\n",
    "   print(key,value, sep=\":\")\n",
    "\"\"\"\n",
    "for key in students:\n",
    "    print(key,students[key],sep=\":\")\n",
    "    "
   ]
  },
  {
   "cell_type": "code",
   "execution_count": 59,
   "metadata": {},
   "outputs": [
    {
     "name": "stdout",
     "output_type": "stream",
     "text": [
      "{10: 2, 20: 2, 30: 1}\n"
     ]
    }
   ],
   "source": [
    "#Counting frequency of digits and storing in dictionary\n",
    "c={}\n",
    "l1=[10,20,30,10,20]\n",
    "for i in range(len(l1)):\n",
    "    if l1[i] not in c:\n",
    "        c[l1[i]]=1\n",
    "    else:\n",
    "        c[l1[i]]+=1\n",
    "print(c)\n"
   ]
  },
  {
   "cell_type": "code",
   "execution_count": 57,
   "metadata": {},
   "outputs": [
    {
     "name": "stdout",
     "output_type": "stream",
     "text": [
      "sum 600\n",
      "\n",
      "avg 200\n"
     ]
    }
   ],
   "source": [
    "#sum and avg of dictionary values\n",
    "d1={'n1':100,'n2':200,'n3':300}\n",
    "#r=sum(d1.values())\n",
    "#avg=r/len(d1.values())\n",
    "c=0\n",
    "s=0\n",
    "for key in d1:\n",
    "    s+=d1[key]\n",
    "    c+=1\n",
    "print(\"sum\",s);\n",
    "print()\n",
    "print(\"avg\",int(s/c))\n",
    "\n"
   ]
  },
  {
   "cell_type": "code",
   "execution_count": 2,
   "metadata": {},
   "outputs": [
    {
     "data": {
      "text/plain": [
       "{10: 100, 11: 101, 12: 102}"
      ]
     },
     "execution_count": 2,
     "metadata": {},
     "output_type": "execute_result"
    },
    {
     "data": {
      "text/plain": [
       "{10: 100, 11: 101, 12: 102}"
      ]
     },
     "execution_count": 2,
     "metadata": {},
     "output_type": "execute_result"
    },
    {
     "data": {
      "text/plain": [
       "{10: 100, 11: 101, 12: 102}"
      ]
     },
     "execution_count": 2,
     "metadata": {},
     "output_type": "execute_result"
    }
   ],
   "source": [
    "#to print output as {10:100,11:101,12:102}\n",
    "\n",
    "l1=[10,11,12]\n",
    "l2=[100,101,102]\n",
    "d={}\n",
    "for i in range(len(l1)):\n",
    "    d[l1[i]]=l2[i]\n",
    "d"
   ]
  },
  {
   "cell_type": "code",
   "execution_count": null,
   "metadata": {},
   "outputs": [],
   "source": []
  }
 ],
 "metadata": {
  "kernelspec": {
   "display_name": "Python 3",
   "language": "python",
   "name": "python3"
  },
  "language_info": {
   "codemirror_mode": {
    "name": "ipython",
    "version": 3
   },
   "file_extension": ".py",
   "mimetype": "text/x-python",
   "name": "python",
   "nbconvert_exporter": "python",
   "pygments_lexer": "ipython3",
   "version": "3.7.3"
  }
 },
 "nbformat": 4,
 "nbformat_minor": 2
}
