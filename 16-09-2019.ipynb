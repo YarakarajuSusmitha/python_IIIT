{
 "cells": [
  {
   "cell_type": "markdown",
   "metadata": {},
   "source": [
    "## Regular Expressions"
   ]
  },
  {
   "cell_type": "markdown",
   "metadata": {},
   "source": [
    "* Syntax \n",
    ">     -import re"
   ]
  },
  {
   "cell_type": "markdown",
   "metadata": {},
   "source": [
    " -  set \" [_] \" ---> We can insert set of or group of chars,numbers etc.,\n",
    "      -- Eg:-[0-9]\n",
    " -  Caret\" ^g \" ---->Checking words where g as starting letter\n",
    "       --Eg: ^[2]\n",
    " - Dollar \" $ \" --->Ends with \n",
    "       ---Eg: [9]$\n",
    " - star \" * \" ---> Zero or more occurrences of the expression may be letter or digit or set of letters\n",
    "        ---Eg:[*9]\n",
    " - plus \" + \" --->One or more occuurences\n",
    "       ---Eg:[+9]\n",
    " - curly braces\" { }\" ---> determines the no of characters to consider\n",
    "         ---Eg:[0-9]{9}\n",
    " - or\" |\"  --->condition checking\n",
    "         --Eg:^89|[+91]\n",
    " - slash\" \\ \" --->Special Sequence\n",
    "  > - \\A --->Character is at begining of string\n",
    "  > - \\b --->Character's first index in the string\n",
    "  > - \\d  --->any digit character\n",
    "  > - \\D --->any non digit character\n",
    "  > - \\s -->whitespace character\n",
    "  > - \\S --> non whitespace character\n",
    "  > - \\w --->alphanumeric character\n",
    "  > - \\W ---> non alpha numeric character including spaces\n",
    " - period\" .\" --->Represents a character"
   ]
  },
  {
   "cell_type": "code",
   "execution_count": 4,
   "metadata": {},
   "outputs": [
    {
     "name": "stdout",
     "output_type": "stream",
     "text": [
      "['e', 'l', 'l', 'e', 'l', 'c', 'e', 'h', 'g', 'a', 'i', 'g', 'l', 'a', 'g', 'a', 'g', 'e']\n"
     ]
    }
   ],
   "source": [
    "#Program to find the characters between 'a' and 'l'\n",
    "import re\n",
    "s=\"Hello welcome to python programming language\"\n",
    "print(re.findall(\"[a-l]\",s))"
   ]
  },
  {
   "cell_type": "code",
   "execution_count": 5,
   "metadata": {},
   "outputs": [
    {
     "name": "stdout",
     "output_type": "stream",
     "text": [
      "['1', '1', '0', '6']\n"
     ]
    }
   ],
   "source": [
    "#Program to find the digits in the given string\n",
    "import re\n",
    "s1=\"The statement consists of digits from 1to10 as well as 6special characters\"\n",
    "print(re.findall(\"\\d\",s1))"
   ]
  },
  {
   "cell_type": "code",
   "execution_count": 8,
   "metadata": {},
   "outputs": [
    {
     "name": "stdout",
     "output_type": "stream",
     "text": [
      "['T', 'h', 'e', ' ', 's', 't', 'a', 't', 'e', 'm', 'e', 'n', 't', ' ', 'c', 'o', 'n', 's', 'i', 's', 't', 's', ' ', 'o', 'f', ' ', 'd', 'i', 'g', 'i', 't', 's', ' ', 'f', 'r', 'o', 'm', ' ', 't', 'o', ' ', 'a', 's', ' ', 'w', 'e', 'l', 'l', ' ', 'a', 's', ' ', '.', 's', 'p', 'e', 'c', 'i', 'a', 'l', ' ', 'c', 'h', 'a', 'r', 'a', 'c', 't', 'e', 'r', 's']\n"
     ]
    }
   ],
   "source": [
    "#Program to find the all characters excluding digits  in the given string\n",
    "import re\n",
    "s2=\"The statement consists of digits from 1to10 as well as 6.special characters\"\n",
    "print(re.findall(\"\\D\",s2))"
   ]
  },
  {
   "cell_type": "code",
   "execution_count": 10,
   "metadata": {},
   "outputs": [
    {
     "name": "stdout",
     "output_type": "stream",
     "text": [
      "[' ', ' ', ' ', ' ', ' ', ' ', ' ', ' ', ' ', ' ', ' ']\n"
     ]
    }
   ],
   "source": [
    "#Program to find the spaces in the given string\n",
    "import re\n",
    "s1=\"The statement consists of digits from 1to10 as well as 6special characters\"\n",
    "print(re.findall(\"\\s\",s1))"
   ]
  },
  {
   "cell_type": "code",
   "execution_count": 11,
   "metadata": {},
   "outputs": [
    {
     "name": "stdout",
     "output_type": "stream",
     "text": [
      "['T', 'h', 'e', 's', 't', 'a', 't', 'e', 'm', 'e', 'n', 't', 'c', 'o', 'n', 's', 'i', 's', 't', 's', 'o', 'f', 'd', 'i', 'g', 'i', 't', 's', 'f', 'r', 'o', 'm', '1', 't', 'o', '1', '0', 'a', 's', 'w', 'e', 'l', 'l', 'a', 's', '6', 's', 'p', 'e', 'c', 'i', 'a', 'l', 'c', 'h', 'a', 'r', 'a', 'c', 't', 'e', 'r', 's']\n"
     ]
    }
   ],
   "source": [
    "#Program to find the non spaces in the given string\n",
    "import re\n",
    "s1=\"The statement consists of digits from 1to10 as well as 6special characters\"\n",
    "print(re.findall(\"\\S\",s1))"
   ]
  },
  {
   "cell_type": "code",
   "execution_count": 13,
   "metadata": {},
   "outputs": [
    {
     "name": "stdout",
     "output_type": "stream",
     "text": [
      "['T', 'h', 'e', 's', 't', 'a', 't', 'e', 'm', 'e', 'n', 't', 'c', 'o', 'n', 's', 'i', 's', 't', 's', 'o', 'f', 'd', 'i', 'g', 'i', 't', 's', 'f', 'r', 'o', 'm', '1', 't', 'o', '1', '0', 'a', 's', 'w', 'e', 'l', 'l', 'a', 's', '6', 's', 'p', 'e', 'c', 'i', 'a', 'l', 'c', 'h', 'a', 'r', 'a', 'c', 't', 'e', 'r', 's']\n"
     ]
    }
   ],
   "source": [
    "#Program to find the alpha numeric in the given string\n",
    "import re\n",
    "s1=\"The statement consists of digits from 1to10 as well as 6.%special characters\"\n",
    "print(re.findall(\"\\w\",s1))"
   ]
  },
  {
   "cell_type": "code",
   "execution_count": 14,
   "metadata": {},
   "outputs": [
    {
     "name": "stdout",
     "output_type": "stream",
     "text": [
      "[' ', ' ', ' ', ' ', ' ', ' ', ' ', ' ', ' ', ' ', '.', '&', '@', '#', '$', ' ']\n"
     ]
    }
   ],
   "source": [
    "#Program to find the non alpha numeric in the given string\n",
    "import re\n",
    "s1=\"The statement consists of digits from 1to10 as well as 6.&@#$special characters\"\n",
    "print(re.findall(\"\\W\",s1))"
   ]
  },
  {
   "cell_type": "code",
   "execution_count": 34,
   "metadata": {},
   "outputs": [
    {
     "name": "stdout",
     "output_type": "stream",
     "text": [
      "['Progr']\n"
     ]
    }
   ],
   "source": [
    "#Print 5 characters in the string \"Programming\"\n",
    "import re\n",
    "s3=\"Programming\"\n",
    "\n",
    "print(re.findall(\"^P+[\\w]{4}\",s3))"
   ]
  },
  {
   "cell_type": "code",
   "execution_count": 3,
   "metadata": {},
   "outputs": [
    {
     "name": "stdout",
     "output_type": "stream",
     "text": [
      "enter a mobile number+919123456787898\n"
     ]
    },
    {
     "data": {
      "text/plain": [
       "False"
      ]
     },
     "execution_count": 3,
     "metadata": {},
     "output_type": "execute_result"
    }
   ],
   "source": [
    "#Phone number validator\n",
    "import re\n",
    "n=input(\"enter a mobile number\")\n",
    "'''ttern='[6-9][0-9]{9}|[+][9][1][6-9][0-9]{9}'\n",
    "if re.match(pattern,n):\n",
    "    print(\"Phone number is valid\")\n",
    "\n",
    "else:\n",
    "    print(\"phone number is not valid\")'''\n",
    "def mob_valid(number):\n",
    "    p='[6-9][0-9]{9}|^[+][9][1][6-9][0-9]{9}$'\n",
    "    if re.match(p,number):\n",
    "            return True\n",
    "    else:\n",
    "           return False\n",
    "mob_valid(n)"
   ]
  },
  {
   "cell_type": "code",
   "execution_count": 6,
   "metadata": {},
   "outputs": [
    {
     "name": "stdout",
     "output_type": "stream",
     "text": [
      "enter mail idlovelyfamilymembers26@gmail.ac.in\n"
     ]
    },
    {
     "data": {
      "text/plain": [
       "True"
      ]
     },
     "execution_count": 6,
     "metadata": {},
     "output_type": "execute_result"
    }
   ],
   "source": [
    "#College mail validation\n",
    "import re\n",
    "def mail_valid(mail):\n",
    "    pat='^[a-z][0-9a-z.]{5,30}[@][0-9a-z]{3,8}[.][a-z]{2,4}[.][a-z]{2,4}$'\n",
    "    if re.match(pat,mail):\n",
    "        return True\n",
    "    else:\n",
    "        return False\n",
    "mail_valid(input(\"enter mail id\"))"
   ]
  },
  {
   "cell_type": "code",
   "execution_count": 4,
   "metadata": {},
   "outputs": [
    {
     "name": "stdout",
     "output_type": "stream",
     "text": [
      "Python:Programming:language\n"
     ]
    }
   ],
   "source": [
    "# Program to replace white space with colon :\n",
    "import re\n",
    "s=\"Python Programming language\"\n",
    "print(re.sub('\\s',':',s))"
   ]
  },
  {
   "cell_type": "code",
   "execution_count": 5,
   "metadata": {},
   "outputs": [
    {
     "name": "stdout",
     "output_type": "stream",
     "text": [
      "PythonProgramminglanguageandRaptorFlowchart\n"
     ]
    }
   ],
   "source": [
    "#Program to remove spaces\n",
    "import re\n",
    "s=\"Python Programming language and Raptor Flowchart\"\n",
    "print(re.sub('\\s','',s))"
   ]
  },
  {
   "cell_type": "markdown",
   "metadata": {},
   "source": [
    "## Methods in Regular Expressions"
   ]
  },
  {
   "cell_type": "code",
   "execution_count": 8,
   "metadata": {},
   "outputs": [
    {
     "name": "stdout",
     "output_type": "stream",
     "text": [
      "['e', 'l', 'l', 'e', 'l', 'c', 'e', 'h', 'g', 'a', 'i', 'g', 'l', 'a', 'g', 'a', 'g', 'e']\n"
     ]
    }
   ],
   "source": [
    "#re.findall(pattern,string)\n",
    "import re\n",
    "s=\"Hello welcome to python programming language\"\n",
    "print(re.findall(\"[a-l]\",s))\n"
   ]
  },
  {
   "cell_type": "code",
   "execution_count": 14,
   "metadata": {
    "scrolled": true
   },
   "outputs": [
    {
     "name": "stdout",
     "output_type": "stream",
     "text": [
      "enter number+9189851629345\n",
      "False\n"
     ]
    }
   ],
   "source": [
    "\n",
    "#re.match(pattern,string)\n",
    "import re\n",
    "number=input(\"enter number\")\n",
    "p='[6-9][0-9]{9}|^[+][9][1][6-9][0-9]{9}$'\n",
    "if re.match(p,number):\n",
    "        print(\"True\")\n",
    "else:\n",
    "        print(\"False\")\n"
   ]
  },
  {
   "cell_type": "code",
   "execution_count": 4,
   "metadata": {},
   "outputs": [
    {
     "name": "stdout",
     "output_type": "stream",
     "text": [
      "Python:Programming:language\n"
     ]
    }
   ],
   "source": [
    "#re.sub(pattern,replacing pattern,string)\n",
    "import re\n",
    "s=\"Python Programming language\"\n",
    "print(re.sub('\\s',':',s))"
   ]
  },
  {
   "cell_type": "code",
   "execution_count": null,
   "metadata": {},
   "outputs": [],
   "source": []
  }
 ],
 "metadata": {
  "kernelspec": {
   "display_name": "Python 3",
   "language": "python",
   "name": "python3"
  }
 },
 "nbformat": 4,
 "nbformat_minor": 2
}
