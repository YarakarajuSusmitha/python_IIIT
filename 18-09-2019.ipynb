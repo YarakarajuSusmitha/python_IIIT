{
 "cells": [
  {
   "cell_type": "markdown",
   "metadata": {},
   "source": [
    " ## Files in Python"
   ]
  },
  {
   "cell_type": "markdown",
   "metadata": {},
   "source": [
    "* Built in functions in files\n",
    "        * open(\"filename\",\"mode\")  open the file\n",
    "        * close(\"filename\")  --closes the file"
   ]
  },
  {
   "cell_type": "markdown",
   "metadata": {},
   "source": [
    "# Modes\n",
    "  -r \n",
    "     - read()\n",
    "     - readline()\n",
    "     - readlines()\n",
    "  -w\n",
    "     - write(\"text\")\n",
    "  -a"
   ]
  },
  {
   "cell_type": "code",
   "execution_count": 2,
   "metadata": {},
   "outputs": [
    {
     "name": "stdout",
     "output_type": "stream",
     "text": [
      "28\n"
     ]
    }
   ],
   "source": [
    "#to create a file using open method in write mode\n",
    "f=open(\"f1.txt\",\"w\")\n",
    "f1=f.write(\"Introduction to Python files\")\n",
    "print(f1)\n",
    "f.close()"
   ]
  },
  {
   "cell_type": "code",
   "execution_count": 9,
   "metadata": {},
   "outputs": [
    {
     "name": "stdout",
     "output_type": "stream",
     "text": [
      "Introduction to Python files\n",
      "Python Second line\n",
      "Python Third line\n"
     ]
    }
   ],
   "source": [
    "#to read file f1.txt\n",
    "f=open(\"f1.txt\",\"r\")\n",
    "print(f.read()) #read whole file\n",
    "#print(f.readline()) #read first line of the file\n",
    "#print(f.readlines()) # read all the lines and converts into string\n",
    "f.close()"
   ]
  },
  {
   "cell_type": "code",
   "execution_count": 10,
   "metadata": {},
   "outputs": [
    {
     "data": {
      "text/plain": [
       "'Introduction to Python files\\nPython Second line\\nPython Third line'"
      ]
     },
     "execution_count": 10,
     "metadata": {},
     "output_type": "execute_result"
    }
   ],
   "source": [
    "#Using Functions to read file\n",
    "def file_read(filename):\n",
    "    with open(filename,\"r\") as f:\n",
    "           return f.read()\n",
    "file_read(\"f1.txt\")"
   ]
  },
  {
   "cell_type": "code",
   "execution_count": 15,
   "metadata": {},
   "outputs": [
    {
     "name": "stdout",
     "output_type": "stream",
     "text": [
      "I\n",
      "n\n",
      "t\n",
      "r\n",
      "o\n",
      "d\n",
      "u\n",
      "c\n",
      "t\n",
      "i\n",
      "o\n",
      "n\n",
      " \n",
      "t\n",
      "o\n",
      " \n",
      "P\n",
      "y\n",
      "t\n",
      "h\n",
      "o\n",
      "n\n",
      " \n",
      "f\n",
      "i\n",
      "l\n",
      "e\n",
      "s\n",
      "\n",
      "\n",
      "P\n",
      "y\n",
      "t\n",
      "h\n",
      "o\n",
      "n\n",
      " \n",
      "S\n",
      "e\n",
      "c\n",
      "o\n",
      "n\n",
      "d\n",
      " \n",
      "l\n",
      "i\n",
      "n\n",
      "e\n",
      "\n",
      "\n",
      "P\n",
      "y\n",
      "t\n",
      "h\n",
      "o\n",
      "n\n",
      " \n",
      "T\n",
      "h\n",
      "i\n",
      "r\n",
      "d\n",
      " \n",
      "l\n",
      "i\n",
      "n\n",
      "e\n"
     ]
    }
   ],
   "source": [
    "#Using Loops\n",
    "f=open(\"f1.txt\",\"r\")\n",
    "for l in f.read():  #character by character\n",
    "    print(l) "
   ]
  },
  {
   "cell_type": "code",
   "execution_count": 16,
   "metadata": {},
   "outputs": [
    {
     "name": "stdout",
     "output_type": "stream",
     "text": [
      "I\n",
      "n\n",
      "t\n",
      "r\n",
      "o\n",
      "d\n",
      "u\n",
      "c\n",
      "t\n",
      "i\n",
      "o\n",
      "n\n",
      " \n",
      "t\n",
      "o\n",
      " \n",
      "P\n",
      "y\n",
      "t\n",
      "h\n",
      "o\n",
      "n\n",
      " \n",
      "f\n",
      "i\n",
      "l\n",
      "e\n",
      "s\n",
      "\n",
      "\n"
     ]
    }
   ],
   "source": [
    "f=open(\"f1.txt\",\"r\")\n",
    "for l in f.readline():  #character by character of first line\n",
    "    print(l) "
   ]
  },
  {
   "cell_type": "code",
   "execution_count": 18,
   "metadata": {},
   "outputs": [
    {
     "name": "stdout",
     "output_type": "stream",
     "text": [
      "Introduction to Python files\n",
      "\n",
      "Python Second line\n",
      "\n",
      "Python Third line\n"
     ]
    }
   ],
   "source": [
    "f=open(\"f1.txt\",\"r\")\n",
    "for l in f.readlines():  #line by line\n",
    "    print(l) "
   ]
  },
  {
   "cell_type": "code",
   "execution_count": 19,
   "metadata": {},
   "outputs": [
    {
     "name": "stdout",
     "output_type": "stream",
     "text": [
      "Introduction to Python files\n",
      "\n",
      "Python Second line\n",
      "\n",
      "Python Third line\n"
     ]
    }
   ],
   "source": [
    "f=open(\"f1.txt\",\"r\")\n",
    "for l in f:  #functionality of readlines()\n",
    "    print(l) "
   ]
  },
  {
   "cell_type": "code",
   "execution_count": 21,
   "metadata": {},
   "outputs": [
    {
     "name": "stdout",
     "output_type": "stream",
     "text": [
      "Intro\n"
     ]
    }
   ],
   "source": [
    "#Reading 5 characters in the file\n",
    "f=open(\"f1.txt\",\"r\")\n",
    "print(f.read(5))"
   ]
  },
  {
   "cell_type": "code",
   "execution_count": 34,
   "metadata": {},
   "outputs": [
    {
     "name": "stdout",
     "output_type": "stream",
     "text": [
      "line  1 : character count  29\n",
      "line  2 : character count  19\n",
      "line  3 : character count  17\n"
     ]
    }
   ],
   "source": [
    "#To count no of lines and characters in a file\n",
    "f=open(\"f1.txt\",\"r\")\n",
    "\n",
    "l=0\n",
    "for line in f.readlines():\n",
    "    l+=1\n",
    "    c=0\n",
    "    for li in line:\n",
    "          c+=1\n",
    "    print(\"line \",l,\":\",\"character count \",c)"
   ]
  },
  {
   "cell_type": "code",
   "execution_count": 38,
   "metadata": {},
   "outputs": [
    {
     "name": "stdout",
     "output_type": "stream",
     "text": [
      "words count 10\n"
     ]
    }
   ],
   "source": [
    "#To count no of words in a file\n",
    "f=open(\"f1.txt\",\"r\")\n",
    "w=0\n",
    "for l in f.read():\n",
    "    if l==' ' or l=='\\n':\n",
    "        w+=1\n",
    "print(\"words count\",w+1)"
   ]
  },
  {
   "cell_type": "code",
   "execution_count": 2,
   "metadata": {},
   "outputs": [
    {
     "name": "stdout",
     "output_type": "stream",
     "text": [
      "enter text to write\\nBhavani 7867898789 yamunabhavani313@gmail.com\n"
     ]
    }
   ],
   "source": [
    "def file_write(text):\n",
    "    with open(\"contacts.txt\",\"a\") as f:\n",
    "            f.write(text)\n",
    "file_write(input(\"enter text to write\")) "
   ]
  },
  {
   "cell_type": "code",
   "execution_count": 10,
   "metadata": {},
   "outputs": [
    {
     "name": "stdout",
     "output_type": "stream",
     "text": [
      "enter a name to search in contactssubha\n",
      "Contact does not exists with the name\n"
     ]
    }
   ],
   "source": [
    "#to search a name in contacts file\n",
    "import re\n",
    "def search_contact(name):\n",
    "    c=0\n",
    "    with open(\"contacts.txt\",\"r\") as f:\n",
    "        for i in f.readlines():\n",
    "            if re.search(name,i):\n",
    "                return True\n",
    "if search_contact(input(\"enter a name to search in contacts\")):\n",
    "    print(\"Contact exists with the name\")\n",
    "else:\n",
    "    print(\"Contact does not exists with the name\")"
   ]
  },
  {
   "cell_type": "code",
   "execution_count": 11,
   "metadata": {},
   "outputs": [
    {
     "name": "stdout",
     "output_type": "stream",
     "text": [
      "['Introduction to Python files\\n', 'Python Second line\\n', 'Python Third line']\n"
     ]
    }
   ],
   "source": [
    "#To read line by line and store in a list\n",
    "f=open(\"f1.txt\",\"r\")\n",
    "file_list=[]\n",
    "for i in f.readlines():\n",
    "    file_list.append(i)\n",
    "print(file_list)\n",
    "    "
   ]
  },
  {
   "cell_type": "code",
   "execution_count": 14,
   "metadata": {},
   "outputs": [
    {
     "name": "stdout",
     "output_type": "stream",
     "text": [
      "{'Introduction': 1, 'to': 1, 'Python': 3, 'files': 1, 'Second': 1, 'line': 2, 'Third': 1}\n",
      "['Introduction', 'to', 'Python', 'files', 'Python', 'Second', 'line', 'Python', 'Third', 'line']\n"
     ]
    }
   ],
   "source": [
    "#to count frequency of each word\n",
    "f=open(\"f1.txt\",\"r\")\n",
    "file_dict={}\n",
    "a=f.read().split()\n",
    "for i in range(len(a)):\n",
    "    if a[i] not in file_dict:\n",
    "          file_dict.update({a[i]:1})\n",
    "    else:\n",
    "        file_dict[a[i]]+=1\n",
    "print(file_dict)\n",
    "print(a)\n",
    "#file_dict[]\n",
    "\n",
    "\n",
    "    "
   ]
  },
  {
   "cell_type": "code",
   "execution_count": 33,
   "metadata": {},
   "outputs": [
    {
     "name": "stdout",
     "output_type": "stream",
     "text": [
      "Counter({'Python': 3, 'line': 2, 'Introduction': 1, 'to': 1, 'files': 1, 'Second': 1, 'Third': 1})\n"
     ]
    }
   ],
   "source": [
    "#freq count using collections package\n",
    "from collections import Counter\n",
    "def word_freq(name):\n",
    "    with open(name,\"r\") as f:\n",
    "        return Counter(f.read().split())\n",
    "print(word_freq(\"f1.txt\"))"
   ]
  },
  {
   "cell_type": "code",
   "execution_count": 2,
   "metadata": {},
   "outputs": [
    {
     "data": {
      "text/plain": [
       "['691066789105']"
      ]
     },
     "execution_count": 2,
     "metadata": {},
     "output_type": "execute_result"
    }
   ],
   "source": [
    "#writing random numbers into a file\n",
    "import random\n",
    "f=open(\"rand_numbers.txt\",\"w\")\n",
    "for i in range(10):\n",
    "    f.write(str(random.randint(4,10)))\n",
    "f1=open(\"rand_numbers.txt\",\"r\")\n",
    "f1.readlines()"
   ]
  },
  {
   "cell_type": "code",
   "execution_count": 5,
   "metadata": {},
   "outputs": [
    {
     "name": "stdout",
     "output_type": "stream",
     "text": [
      "enter a range25\n",
      "enter lower range0\n",
      "enter upper range30\n"
     ]
    }
   ],
   "source": [
    "#using function for writing random numbers in a file\n",
    "import random\n",
    "def rand_marks(n,lb,ub):\n",
    "    with open(\"marks.txt\",\"w\") as f:\n",
    "        for i in range(n):\n",
    "            f.write(str(random.randint(lb,ub))+'\\n')\n",
    "rand_marks(int(input(\"enter a range\")),int(input(\"enter lower range\")),int(input(\"enter upper range\")))"
   ]
  },
  {
   "cell_type": "markdown",
   "metadata": {},
   "source": [
    "## File methods"
   ]
  },
  {
   "cell_type": "markdown",
   "metadata": {},
   "source": [
    "* 1.tell()   return the file last position\n",
    "   >> Syntax: filename.tell()\n",
    "* 2.seek(index)  indicates the cursor position\n",
    "   >> Syntax: filename.seek(index)"
   ]
  },
  {
   "cell_type": "code",
   "execution_count": 10,
   "metadata": {},
   "outputs": [
    {
     "name": "stdout",
     "output_type": "stream",
     "text": [
      "92\n"
     ]
    }
   ],
   "source": [
    "#tell()\n",
    "f=open(\"marks.txt\",\"r\")\n",
    "f.read()\n",
    "print(f.tell())\n",
    "f.close()"
   ]
  },
  {
   "cell_type": "code",
   "execution_count": 11,
   "metadata": {},
   "outputs": [
    {
     "name": "stdout",
     "output_type": "stream",
     "text": [
      "10\n"
     ]
    }
   ],
   "source": [
    "#seek(position)\n",
    "f=open(\"marks.txt\",\"r\")\n",
    "print(f.seek(10))\n",
    "f.close()"
   ]
  },
  {
   "cell_type": "markdown",
   "metadata": {},
   "source": [
    "## OS Package\n",
    "    -- To get the size of the file"
   ]
  },
  {
   "cell_type": "code",
   "execution_count": 12,
   "metadata": {},
   "outputs": [
    {
     "name": "stdout",
     "output_type": "stream",
     "text": [
      "67 kb\n"
     ]
    }
   ],
   "source": [
    "#To get the size of file\n",
    "import os\n",
    "print(os.path.getsize(\"f1.txt\"),\"kb\")"
   ]
  },
  {
   "cell_type": "code",
   "execution_count": null,
   "metadata": {},
   "outputs": [],
   "source": []
  }
 ],
 "metadata": {
  "kernelspec": {
   "display_name": "Python 3",
   "language": "python",
   "name": "python3"
  },
  "language_info": {
   "codemirror_mode": {
    "name": "ipython",
    "version": 3
   },
   "file_extension": ".py",
   "mimetype": "text/x-python",
   "name": "python",
   "nbconvert_exporter": "python",
   "pygments_lexer": "ipython3",
   "version": "3.7.3"
  }
 },
 "nbformat": 4,
 "nbformat_minor": 2
}
